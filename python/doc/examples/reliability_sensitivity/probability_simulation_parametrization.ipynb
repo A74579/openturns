{
 "cells": [
  {
   "cell_type": "markdown",
   "metadata": {},
   "source": [
    "# Parametrization of a simulation algorithm"
   ]
  },
  {
   "cell_type": "markdown",
   "metadata": {},
   "source": [
    "In this basic example we are going to parameterize a simulation algorithm:\n",
    "\n",
    " - parameters linked to the number of points generated\n",
    " - the precision of the probability estimator\n",
    " - the sample storage strategy\n",
    " - using callbacks to monitor progress and stopping criteria.\n",
    " "
   ]
  },
  {
   "cell_type": "code",
   "execution_count": 148,
   "metadata": {},
   "outputs": [],
   "source": [
    "from __future__ import print_function\n",
    "import openturns as ot"
   ]
  },
  {
   "cell_type": "code",
   "execution_count": 149,
   "metadata": {
    "collapsed": true
   },
   "outputs": [],
   "source": [
    "# create the joint distribution of the parameters\n",
    "distribution_R = ot.LogNormalMuSigma(300.0, 30.0, 0.0).getDistribution()\n",
    "distribution_F = ot.Normal(75e3, 5e3)\n",
    "marginals = [distribution_R, distribution_F]\n",
    "distribution = ot.ComposedDistribution(marginals)"
   ]
  },
  {
   "cell_type": "code",
   "execution_count": 150,
   "metadata": {
    "collapsed": true
   },
   "outputs": [],
   "source": [
    "# create the model\n",
    "model = ot.SymbolicFunction(['R', 'F'], ['R-F/(_pi*100.0)'])"
   ]
  },
  {
   "cell_type": "code",
   "execution_count": 151,
   "metadata": {
    "collapsed": true
   },
   "outputs": [],
   "source": [
    "# create the event we want to estimate the probability\n",
    "vect = ot.RandomVector(distribution)\n",
    "G = ot.RandomVector(model, vect)\n",
    "event = ot.Event(G, ot.Less(), 0.0)"
   ]
  },
  {
   "cell_type": "code",
   "execution_count": 152,
   "metadata": {
    "collapsed": true
   },
   "outputs": [],
   "source": [
    "# create a Monte Carlo algorithm\n",
    "experiment = ot.MonteCarloExperiment()\n",
    "algo = ot.ProbabilitySimulationAlgorithm(event, experiment)"
   ]
  },
  {
   "cell_type": "code",
   "execution_count": 153,
   "metadata": {
    "collapsed": true
   },
   "outputs": [],
   "source": [
    "# Criteria 1: Define the Maximum Coefficient of variation of the probability estimator\n",
    "algo.setMaximumCoefficientOfVariation(0.05)"
   ]
  },
  {
   "cell_type": "code",
   "execution_count": 154,
   "metadata": {
    "collapsed": true
   },
   "outputs": [],
   "source": [
    "# Criteria 2: Define the Maximum Outer Sampling of the simulation\n",
    "algo.setMaximumOuterSampling(int(2e4))"
   ]
  },
  {
   "cell_type": "code",
   "execution_count": 155,
   "metadata": {
    "collapsed": true
   },
   "outputs": [],
   "source": [
    "# HistoryStrategy to store the values of the probability used to draw the convergence graph\n",
    "\n",
    "# Null strategy\n",
    "algo.setConvergenceStrategy(ot.Null())\n",
    "\n",
    "# Full strategy\n",
    "algo.setConvergenceStrategy(ot.Full())\n",
    "\n",
    "# Compact strategy: N points\n",
    "N = 1000\n",
    "algo.setConvergenceStrategy(ot.Compact(N))"
   ]
  },
  {
   "cell_type": "code",
   "execution_count": 156,
   "metadata": {},
   "outputs": [],
   "source": [
    "# Use a callback to display the progress every 10%\n",
    "def progress(p):\n",
    "    if p >= progress.t:\n",
    "        progress.t += 10.0\n",
    "        print('progress=', p, '%')\n",
    "    return False\n",
    "progress.t = 10.0\n",
    "algo.setProgressCallback(progress)"
   ]
  },
  {
   "cell_type": "code",
   "execution_count": 161,
   "metadata": {
    "collapsed": true
   },
   "outputs": [],
   "source": [
    "# Use a callback to stop the simulation\n",
    "def stop():\n",
    "    # here we never stop, but we could\n",
    "    return False\n",
    "algo.setStopCallback(stop)"
   ]
  },
  {
   "cell_type": "code",
   "execution_count": 158,
   "metadata": {},
   "outputs": [],
   "source": [
    "algo.run()"
   ]
  },
  {
   "cell_type": "code",
   "execution_count": 159,
   "metadata": {},
   "outputs": [
    {
     "name": "stdout",
     "output_type": "stream",
     "text": [
      "Pf= 0.0\n"
     ]
    }
   ],
   "source": [
    "# retrieve results\n",
    "result = algo.getResult()\n",
    "probability = result.getProbabilityEstimate()\n",
    "print('Pf=', probability)"
   ]
  }
 ],
 "metadata": {
  "kernelspec": {
   "display_name": "Python 3",
   "language": "python",
   "name": "python3"
  },
  "language_info": {
   "codemirror_mode": {
    "name": "ipython",
    "version": 3
   },
   "file_extension": ".py",
   "mimetype": "text/x-python",
   "name": "python",
   "nbconvert_exporter": "python",
   "pygments_lexer": "ipython3",
   "version": "3.5.2"
  }
 },
 "nbformat": 4,
 "nbformat_minor": 1
}
