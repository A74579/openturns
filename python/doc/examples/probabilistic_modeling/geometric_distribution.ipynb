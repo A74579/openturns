{
 "cells": [
  {
   "cell_type": "markdown",
   "metadata": {},
   "source": [
    "# Create a geometric distribution"
   ]
  },
  {
   "cell_type": "markdown",
   "metadata": {},
   "source": [
    "In this basic example we are going to create a geometric distribution with parameter $$p = 0.7$$"
   ]
  },
  {
   "cell_type": "code",
   "execution_count": 1,
   "metadata": {
    "collapsed": false
   },
   "outputs": [
    {
     "name": "stdout",
     "output_type": "stream",
     "text": [
      "Geometric(p = 0.7)\n"
     ]
    }
   ],
   "source": [
    "from __future__ import print_function\n",
    "import openturns as ot\n",
    "\n",
    "distribution = ot.Geometric(0.7)\n",
    "print(distribution)"
   ]
  },
  {
   "cell_type": "code",
   "execution_count": 2,
   "metadata": {
    "collapsed": false
   },
   "outputs": [
    {
     "name": "stdout",
     "output_type": "stream",
     "text": [
      "    [ X0 ]\n",
      "0 : [ 1  ]\n",
      "1 : [ 1  ]\n",
      "2 : [ 2  ]\n",
      "3 : [ 3  ]\n",
      "4 : [ 1  ]\n",
      "5 : [ 1  ]\n",
      "6 : [ 1  ]\n",
      "7 : [ 1  ]\n",
      "8 : [ 3  ]\n",
      "9 : [ 2  ]\n"
     ]
    }
   ],
   "source": [
    "sample = distribution.getSample(10)\n",
    "print(sample)"
   ]
  },
  {
   "cell_type": "code",
   "execution_count": null,
   "metadata": {
    "collapsed": true
   },
   "outputs": [],
   "source": []
  }
 ],
 "metadata": {
  "kernelspec": {
   "display_name": "Python 3",
   "language": "python",
   "name": "python3"
  },
  "language_info": {
   "codemirror_mode": {
    "name": "ipython",
    "version": 3
   },
   "file_extension": ".py",
   "mimetype": "text/x-python",
   "name": "python",
   "nbconvert_exporter": "python",
   "pygments_lexer": "ipython3",
   "version": "3.5.2"
  }
 },
 "nbformat": 4,
 "nbformat_minor": 0
}
