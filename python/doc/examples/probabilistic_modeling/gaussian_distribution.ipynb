{
 "cells": [
  {
   "cell_type": "markdown",
   "metadata": {},
   "source": [
    "# Create a gaussian distribution"
   ]
  },
  {
   "cell_type": "markdown",
   "metadata": {},
   "source": [
    "In this basic example we are going to create a gaussian distribution with parameters\n",
    "\n",
    "$$\\mu = 2.2, \\sigma = 0.6$$"
   ]
  },
  {
   "cell_type": "code",
   "execution_count": 3,
   "metadata": {
    "collapsed": false
   },
   "outputs": [
    {
     "name": "stdout",
     "output_type": "stream",
     "text": [
      "Normal(mu = 2.2, sigma = 0.6)\n"
     ]
    }
   ],
   "source": [
    "from __future__ import print_function\n",
    "import openturns as ot\n",
    "\n",
    "distribution = ot.Normal(2.2, 0.6)\n",
    "print(distribution)"
   ]
  },
  {
   "cell_type": "code",
   "execution_count": 4,
   "metadata": {
    "collapsed": false
   },
   "outputs": [
    {
     "name": "stdout",
     "output_type": "stream",
     "text": [
      "    [ X0       ]\n",
      "0 : [ 2.41003  ]\n",
      "1 : [ 1.987    ]\n",
      "2 : [ 3.06235  ]\n",
      "3 : [ 2.6864   ]\n",
      "4 : [ 2.67589  ]\n",
      "5 : [ 1.91768  ]\n",
      "6 : [ 2.35661  ]\n",
      "7 : [ 0.825963 ]\n",
      "8 : [ 1.43027  ]\n",
      "9 : [ 1.41293  ]\n"
     ]
    }
   ],
   "source": [
    "sample = distribution.getSample(10)\n",
    "print(sample)"
   ]
  },
  {
   "cell_type": "code",
   "execution_count": null,
   "metadata": {
    "collapsed": true
   },
   "outputs": [],
   "source": []
  }
 ],
 "metadata": {
  "kernelspec": {
   "display_name": "Python 3",
   "language": "python",
   "name": "python3"
  },
  "language_info": {
   "codemirror_mode": {
    "name": "ipython",
    "version": 3
   },
   "file_extension": ".py",
   "mimetype": "text/x-python",
   "name": "python",
   "nbconvert_exporter": "python",
   "pygments_lexer": "ipython3",
   "version": "3.5.2"
  }
 },
 "nbformat": 4,
 "nbformat_minor": 0
}
